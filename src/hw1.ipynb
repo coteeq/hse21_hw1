{
 "cells": [
  {
   "cell_type": "code",
   "execution_count": 1,
   "id": "32c4a674",
   "metadata": {},
   "outputs": [
    {
     "name": "stdout",
     "output_type": "stream",
     "text": [
      "Requirement already satisfied: biopython in /Users/coteeq/src/bio/bioenv/lib/python3.9/site-packages (1.79)\r\n",
      "Requirement already satisfied: numpy in /Users/coteeq/src/bio/bioenv/lib/python3.9/site-packages (from biopython) (1.21.3)\r\n"
     ]
    }
   ],
   "source": [
    "import re\n",
    "!pip install biopython\n",
    "from Bio import SeqIO"
   ]
  },
  {
   "cell_type": "code",
   "execution_count": 2,
   "id": "fbdbb931",
   "metadata": {},
   "outputs": [],
   "source": [
    "def show_lengths(fname):\n",
    "    def extract_len(line):\n",
    "        pattern = r'^>[a-z]+[0-9]+_len([0-9]+)_cov[0-9]+'\n",
    "        return int(re.search(pattern, line).group(1))\n",
    "\n",
    "    with open(fname) as file:\n",
    "        lens = sorted([extract_len(line) for line in file if line.startswith(\">\")])\n",
    "    \n",
    "    sumlen = sum(lens)\n",
    "    part_sum = 0\n",
    "    n50 = None\n",
    "    for l in reversed(lens):\n",
    "        part_sum += l\n",
    "        if part_sum * 2 >= sumlen:\n",
    "            n50 = l\n",
    "            break\n",
    "\n",
    "    print(\n",
    "        f\"{fname}\",\n",
    "        f\"count:     {len(lens)}\",\n",
    "        f\"total len: {sumlen}\",\n",
    "        f\"longest:   {lens[-1]}\",\n",
    "        f\"n50:       {n50}\",\n",
    "        sep=\"\\n\"\n",
    "    )"
   ]
  },
  {
   "cell_type": "markdown",
   "id": "2fe0ce18",
   "metadata": {},
   "source": [
    "### Анализ контигов"
   ]
  },
  {
   "cell_type": "code",
   "execution_count": 3,
   "id": "86ffdd22",
   "metadata": {
    "scrolled": false
   },
   "outputs": [
    {
     "name": "stdout",
     "output_type": "stream",
     "text": [
      "../data/out_contig.fa\n",
      "count:     617\n",
      "total len: 3925575\n",
      "longest:   179307\n",
      "n50:       47611\n"
     ]
    }
   ],
   "source": [
    "show_lengths(\"../data/out_contig.fa\")"
   ]
  },
  {
   "cell_type": "code",
   "execution_count": 4,
   "id": "66a205e2",
   "metadata": {},
   "outputs": [
    {
     "name": "stdout",
     "output_type": "stream",
     "text": [
      "../data/out_scaffold.fa\n",
      "count:     98\n",
      "total len: 3869816\n",
      "longest:   383582\n",
      "n50:       173397\n"
     ]
    }
   ],
   "source": [
    "show_lengths(\"../data/out_scaffold.fa\")"
   ]
  },
  {
   "cell_type": "markdown",
   "id": "eb6d6d34",
   "metadata": {},
   "source": [
    "### Количество гэпов"
   ]
  },
  {
   "cell_type": "code",
   "execution_count": 5,
   "id": "57916622",
   "metadata": {},
   "outputs": [
    {
     "name": "stdout",
     "output_type": "stream",
     "text": [
      "not closed\n",
      "gap count:        2\n",
      "gap total length: 25\n",
      "\n",
      "gaps closed\n",
      "gap count:        0\n",
      "gap total length: 0\n"
     ]
    }
   ],
   "source": [
    "def show_longest(fname, label, out_fname):\n",
    "    seqs = list(SeqIO.parse(fname, \"fasta\"))\n",
    "    \n",
    "    longest = max(seqs, key=len)\n",
    "    gaps = re.findall(r\"N+\", str(longest.seq))\n",
    "    print(\n",
    "        f\"{label}\",\n",
    "        f\"gap count:        {len(gaps)}\",\n",
    "        f\"gap total length: {sum(map(len, gaps))}\",\n",
    "        sep=\"\\n\"\n",
    "    )\n",
    "    \n",
    "    SeqIO.write([longest], out_fname, \"fasta\")\n",
    "    \n",
    "show_longest(\"../data/out_scaffold.fa\", \"not closed\", \"../data/longest_not_closed.fa\")\n",
    "print()\n",
    "show_longest(\"../data/out_scaffold_closed.fa\", \"gaps closed\", \"../data/longest_closed.fa\")"
   ]
  }
 ],
 "metadata": {
  "kernelspec": {
   "display_name": "Python 3 (ipykernel)",
   "language": "python",
   "name": "python3"
  },
  "language_info": {
   "codemirror_mode": {
    "name": "ipython",
    "version": 3
   },
   "file_extension": ".py",
   "mimetype": "text/x-python",
   "name": "python",
   "nbconvert_exporter": "python",
   "pygments_lexer": "ipython3",
   "version": "3.9.6"
  }
 },
 "nbformat": 4,
 "nbformat_minor": 5
}
